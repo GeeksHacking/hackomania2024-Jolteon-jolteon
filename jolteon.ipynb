{
 "cells": [
  {
   "cell_type": "code",
   "execution_count": 38,
   "id": "ee8dd02a-9b20-4422-beff-83bb630d45d9",
   "metadata": {},
   "outputs": [],
   "source": [
    "from langchain_openai import ChatOpenAI\n",
    "from langchain_core.prompts import ChatPromptTemplate, MessagesPlaceholder\n",
    "from langchain_core.output_parsers import StrOutputParser\n",
    "from langchain_community.document_loaders import WebBaseLoader\n",
    "from langchain_openai import OpenAIEmbeddings\n",
    "from langchain_community.vectorstores import FAISS\n",
    "from langchain_text_splitters import RecursiveCharacterTextSplitter\n",
    "from langchain.chains.combine_documents import create_stuff_documents_chain\n",
    "from langchain_core.documents import Document\n",
    "from langchain.chains import create_retrieval_chain\n",
    "from langchain.chains import create_history_aware_retriever\n",
    "from langchain_core.messages import HumanMessage, AIMessage\n",
    "from langchain.memory import ChatMessageHistory\n",
    "from langchain_core.runnables.history import RunnableWithMessageHistory\n",
    "\n",
    "output_parser = StrOutputParser()\n",
    "chat = ChatOpenAI(model=\"gpt-3.5-turbo-1106\")\n",
    "embeddings = OpenAIEmbeddings()\n",
    "text_splitter = RecursiveCharacterTextSplitter()"
   ]
  },
  {
   "cell_type": "markdown",
   "id": "6668bc59-924a-4d13-9cff-83bdc14e85ee",
   "metadata": {},
   "source": [
    "# Langchain Memory Test"
   ]
  },
  {
   "cell_type": "code",
   "execution_count": 37,
   "id": "1389f787-108e-4db9-b354-0d4eaebc80d3",
   "metadata": {},
   "outputs": [],
   "source": [
    "prompt = ChatPromptTemplate.from_messages(\n",
    "    [\n",
    "        (\n",
    "            \"system\",\n",
    "            \"You are a helpful assistant. Answer all questions to the best of your ability.\",\n",
    "        ),\n",
    "        MessagesPlaceholder(variable_name=\"chat_history\"),\n",
    "        (\"human\", \"{input}\"),\n",
    "    ]\n",
    ")\n",
    "\n",
    "chain = prompt | chat"
   ]
  },
  {
   "cell_type": "code",
   "execution_count": 39,
   "id": "a5d5b49d-85a5-4019-8fb3-ff4d5f95635e",
   "metadata": {},
   "outputs": [],
   "source": [
    "demo_ephemeral_chat_history_for_chain = ChatMessageHistory()\n",
    "\n",
    "chain_with_message_history = RunnableWithMessageHistory(\n",
    "    chain,\n",
    "    lambda session_id: demo_ephemeral_chat_history_for_chain,\n",
    "    input_messages_key=\"input\",\n",
    "    history_messages_key=\"chat_history\",\n",
    ")"
   ]
  },
  {
   "cell_type": "code",
   "execution_count": 40,
   "id": "4a89949a-e014-41d1-9088-249fb3a18547",
   "metadata": {},
   "outputs": [
    {
     "data": {
      "text/plain": [
       "AIMessage(content='The translation of \"I love programming\" in French is \"J\\'adore la programmation.\"', response_metadata={'token_usage': {'completion_tokens': 20, 'prompt_tokens': 39, 'total_tokens': 59}, 'model_name': 'gpt-3.5-turbo-1106', 'system_fingerprint': 'fp_592ef5907d', 'finish_reason': 'stop', 'logprobs': None}, id='run-23e1ff5d-cf5a-41db-8959-740d707a27af-0')"
      ]
     },
     "execution_count": 40,
     "metadata": {},
     "output_type": "execute_result"
    }
   ],
   "source": [
    "chain_with_message_history.invoke(\n",
    "    {\"input\": \"Translate this sentence from English to French: I love programming.\"},\n",
    "    {\"configurable\": {\"session_id\": \"unused\"}},\n",
    ")"
   ]
  },
  {
   "cell_type": "code",
   "execution_count": 41,
   "id": "1dc01f18-2793-4c15-8f0e-2eae5535e995",
   "metadata": {},
   "outputs": [
    {
     "data": {
      "text/plain": [
       "AIMessage(content='You just asked me to translate the sentence \"I love programming\" from English to French.', response_metadata={'token_usage': {'completion_tokens': 18, 'prompt_tokens': 74, 'total_tokens': 92}, 'model_name': 'gpt-3.5-turbo-1106', 'system_fingerprint': 'fp_592ef5907d', 'finish_reason': 'stop', 'logprobs': None}, id='run-5f44df3c-69b7-43fa-9fa2-ebd5972522b4-0')"
      ]
     },
     "execution_count": 41,
     "metadata": {},
     "output_type": "execute_result"
    }
   ],
   "source": [
    "chain_with_message_history.invoke(\n",
    "    {\"input\": \"What did I just ask you?\"}, {\"configurable\": {\"session_id\": \"unused\"}}\n",
    ")"
   ]
  },
  {
   "cell_type": "markdown",
   "id": "dffb75fa-c19e-4471-ad8c-7463eae05c74",
   "metadata": {},
   "source": [
    "# Langchain vectorizing document test"
   ]
  },
  {
   "cell_type": "code",
   "execution_count": 15,
   "id": "138a26a4-354b-4b7c-ab70-158f4f1a7823",
   "metadata": {},
   "outputs": [],
   "source": [
    "loader = WebBaseLoader(\"https://www.enterprisesg.gov.sg/financial-support/enterprise-development-grant\")\n",
    "\n",
    "docs = loader.load()"
   ]
  },
  {
   "cell_type": "code",
   "execution_count": 16,
   "id": "c96bdb94-83d0-4b00-8f2c-21c69d3d8d18",
   "metadata": {},
   "outputs": [],
   "source": [
    "documents = text_splitter.split_documents(docs)\n",
    "vector = FAISS.from_documents(documents, embeddings)"
   ]
  },
  {
   "cell_type": "code",
   "execution_count": 18,
   "id": "a17333a2-52a4-4473-9172-0717d85c22ca",
   "metadata": {},
   "outputs": [],
   "source": [
    "retriever = vector.as_retriever()\n",
    "retrieval_chain = create_retrieval_chain(retriever, document_chain)"
   ]
  },
  {
   "cell_type": "code",
   "execution_count": 20,
   "id": "63dc9f97-ae97-4642-b7d9-180bca17209c",
   "metadata": {},
   "outputs": [
    {
     "name": "stdout",
     "output_type": "stream",
     "text": [
      "To check if you are eligible for the Enterprise Development Grant, you need to ensure that your business entity is registered and operating in Singapore, has at least 30% local equity held by Singaporean(s) and/or Singapore PR(s), and is financially ready to start and complete the project. Additionally, you can refer to the eligibility criteria mentioned in the provided context for more details.\n"
     ]
    }
   ],
   "source": [
    "#retrieval_chain.invoke({\"input\": \"how can langsmith help with testing?\"})\n",
    "response = retrieval_chain.invoke({\"input\": \"How do I check if I'm eligible for the Enterprice Development grant?\"})\n",
    "print(response[\"answer\"])"
   ]
  },
  {
   "cell_type": "code",
   "execution_count": 23,
   "id": "7c424d11-ae64-4b69-972e-a2d42a04bc3b",
   "metadata": {},
   "outputs": [],
   "source": [
    "prompt = ChatPromptTemplate.from_messages([\n",
    "    MessagesPlaceholder(variable_name=\"chat_history\"),\n",
    "    (\"user\", \"{input}\"),\n",
    "    (\"user\", \"Given the above conversation, generate a search query to look up to get information relevant to the conversation\")\n",
    "])\n",
    "retriever_chain = create_history_aware_retriever(llm, retriever, prompt)"
   ]
  },
  {
   "cell_type": "code",
   "execution_count": 24,
   "id": "f4d01354-bf4d-4b6c-b52a-a45001b0014c",
   "metadata": {},
   "outputs": [
    {
     "data": {
      "text/plain": [
       "[Document(page_content='Enterprise Development Grant (EDG)\\n\\n\\n\\n\\n\\n\\n\\n\\n\\n\\n\\n\\n\\n\\n\\n\\n\\n\\n\\n\\n\\n\\n\\n\\n\\n\\n\\n\\n\\n\\n\\n\\n\\n\\n\\nx \\n\\n\\n\\n\\n\\n\\n\\n \\n\\n\\n\\n\\n\\n\\n\\n\\n\\n\\n\\n\\n\\n\\n\\n\\n\\n\\n\\n\\n\\n\\n\\n \\n\\n\\n\\n\\nGrow Your Business\\n\\nBoost Capabilities\\n\\nOverview\\n\\n\\nGrowth & Transformation\\n\\n\\nProductivity & Digitalisation\\n\\n\\nTalent Attraction & Development\\n\\n\\nQuality & Standards\\n\\n\\nSustainability\\n\\n\\n\\n\\nInnovate with Us\\n\\nOverview\\n\\n\\nInnovation Capabilities\\n\\n\\nInnovation Talent\\n\\n\\nMarket Access & Networks\\n\\n\\n\\n\\nGo Global\\n\\nOverview\\n\\n\\nMarket Guides\\n\\n\\nMarket Entry Support\\n\\n\\nInternational Agreements\\n\\n\\n\\n\\nPartner with Singapore\\n\\nWhy Singapore\\n\\n\\nInnovation & Startups\\n\\n\\nTrade\\n\\n\\nInfrastructure\\n\\n\\n\\n\\nFake Navigation Item\\n\\n\\n\\n\\nIndustries\\n\\n\\nFinancial Support\\n\\n\\nResources\\n\\n\\nAbout Us\\n\\n\\n\\n\\n\\n \\n\\n\\n\\n\\n\\n \\n\\n\\n\\n \\n\\n\\n\\n\\nGrow Your Business\\n\\nBoost Capabilities\\n\\nOverview\\n\\n\\nGrowth & Transformation\\n\\n\\nProductivity & Digitalisation\\n\\n\\nTalent Attraction & Development\\n\\n\\nQuality & Standards\\n\\n\\nSustainability\\n\\n\\n\\n\\nInnovate with Us\\n\\nOverview\\n\\n\\nInnovation Capabilities\\n\\n\\nInnovation Talent\\n\\n\\nMarket Access & Networks\\n\\n\\n\\n\\nGo Global\\n\\nOverview\\n\\n\\nMarket Guides\\n\\n\\nMarket Entry Support\\n\\n\\nInternational Agreements\\n\\n\\n\\n\\nPartner with Singapore\\n\\nWhy Singapore\\n\\n\\nInnovation & Startups\\n\\n\\nTrade\\n\\n\\nInfrastructure\\n\\n\\n\\n\\nFake Navigation Item\\n\\n\\n\\n\\nIndustries\\n\\n\\nFinancial Support\\n\\n\\nResources\\n\\n\\nAbout Us\\n\\n\\n\\n\\n\\n\\n\\n\\n\\n\\n\\n\\n\\n\\n\\n\\n\\n\\n\\n\\n\\n\\n\\n\\n\\n\\n\\n\\n \\n\\n\\n\\n\\n\\n \\n \\n\\n\\n\\n\\n\\n\\n\\n\\n\\n\\n\\n\\n\\n\\n\\n\\n\\nFinancial Support /\\n\\n\\nEnterprise Development Grant (EDG) /\\n\\n\\n\\n\\n\\nEnterprise Development GrantFor Singapore companies starting new projects to upgrade their business, explore new growth, or expand overseas\\nFunds individual projects tailored to your business \\n\\n\\n Due to high volume of applications, you may encounter a longer processing time than usual. To check on the status of your application, please visit the Business Grants Portal. \\nAll successful applications will be subject to prevailing grant conditions. Incomplete applications will be rejected, and applicants may re-apply with all the complete set of required information. \\n\\n\\n\\nApply now \\n\\n \\n\\n\\n\\n\\n\\n\\n\\n\\n\\n\\nAbout this programme\\nThe Enterprise Development Grant (EDG) supports projects that help you upgrade, innovate, grow and transform your business. Submit your individual project proposals with details on your business plans and project outcomes to take your business further.\\nEDG funds qualifying project costs namely third-party consultancy fees, software and equipment, and internal manpower cost.\\n\\n\\n\\n\\n\\nUp to 50% of eligible costs for local SMEsFrom 1 April 2023, SMEs can receive up to 50% support for EDG (sustainability-related projects may be supported at up to 70% from 1 April 2023 to 31 March 2026). Please refer to the Enterprise Sustainability Programme\\xa0page for more details. \\n\\n\\n\\n\\n\\n\\n Note: The previously-enhanced grant support levels were extended for a time-limited period given the exceptional disruptions brought about by the COVID-19 pandemic, to encourage the transformation of the economy and to help businesses emerge stronger from the pandemic. \\n\\n\\nEligibility\\n\\n\\n\\n\\n\\n\\nBusiness entity registered and operating in Singapore \\n\\nCompany has at least 30% local equity held directly or indirectly by Singaporean(s) and/or Singapore PR(s), determined by the ultimate individual ownership   \\n\\nCompany is financially ready to start and complete the project. Commonly used financial indicators, such as the current ratio, will be used for assessment. \\n\\n\\n\\n\\n\\n\\n\\n\\nNote:\\n\\n\\n\\nApplications will be assessed by EnterpriseSG based on project scope, project outcomes and competency of the service provider.\\nEmployers eligible for the SkillsFuture Enterprise Credit can qualify for additional subsidies under the scheme.\\n \\n\\n\\nProject categories\\n\\n\\n\\n\\n\\n\\n\\n\\n\\n\\n\\nToday and into the future, companies that thrive are the ones that have strong business foundations and strategies, adopt technology and innovative processes, and grow their overseas presence.\\xa0\\xa0\\nEDG helps Singapore companies grow and transform. This grant supports projects that help you upgrade your business, innovate or venture overseas, under three categories:', metadata={'source': 'https://www.enterprisesg.gov.sg/financial-support/enterprise-development-grant', 'title': 'Enterprise Development Grant (EDG)', 'language': 'en'}),\n",
       " Document(page_content='What happens after you have submitted your claims\\n\\nAn EnterpriseSG officer will verify that the project deliverables have been met, and may contact you for further information if required. A site visit or presentation meeting may be arranged for this purpose. You may be asked to revise your Project Report if the information is incomplete. \\nConcurrently, the auditor that you have appointed will verify your claim documents and issue an Audit Report upon completion of the verification. The auditor may contact you for further information if required. \\nThe approved claim amount will be disbursed within six to eight weeks via your selected mode of disbursement to your designed bank account after successful verification of project deliverables AND expenses. First time applicants will need to ensure your PayNow or GIRO is set up and furnish the PayNow or GIRO details to EnterpriseSG for fund disbursement. \\nYou will be informed via email when the grant has been approved\\n    An email will also be sent out by DBS to the email address entered at the mandatory email field in CA/claim form to inform on the credit of the fund.\\n\\n\\n\\n \\n\\n\\n\\n\\n\\n\\n\\n\\n\\n\\n\\n\\n\\n\\nReady to apply? \\n\\n\\n\\nIf you are eligible for the Enterprise Development Grant, submit your application on the Business Grants Portal (BGP) now. \\n\\n\\n\\nApply now \\n\\n\\n\\n\\n\\n\\n\\n\\n\\n\\nNeed additional help?\\n\\n\\n \\n\\nRead Frequently Asked Questions \\n\\n\\n\\nLearn more about other financial support schemes \\n\\n\\n\\n\\n\\n\\n\\n\\n\\nFor technical assistance, kindly contact us through the Enterprise Infoline. \\n\\n\\n\\n\\n\\n\\n \\n\\n\\n\\n\\n\\n\\n\\nEnterprise Development Grant (EDG)About this programmeEligibilityProject categoriesHow to applyClaimsNeed additional help?\\n\\n\\nApply now \\n \\n\\n\\n\\n\\n\\n\\n\\n\\n\\n\\n\\n\\n\\nOther ways we help \\n\\n\\nProductivity Solutions Grant (PSG)Improve productivity through IT solutions and equipment.\\nMarket Readiness Assistance (MRA) GrantSupport for business development, promotion and set-up costs for new overseas market expansion.\\nEnterprise Financing SchemeAccess financing support at each stage of your business growth. \\n\\n\\n\\n\\n \\n\\n\\n\\n\\n\\n\\n\\n\\n \\n\\n\\n\\n\\n\\n\\n\\n\\n\\n\\n\\n\\n\\n\\n\\n\\nEnterprise Singapore\\nThis website is best viewed in Google Chrome or Microsoft Edge browsers. \\n\\n\\n\\n\\n\\n\\n\\n\\n\\nAbout Us \\n\\nCareers \\n\\nContact Us \\n\\nEvents \\n\\n\\n\\n\\n\\n\\n\\nFAQs \\n\\nMedia Centre \\n\\n\\n\\n\\n\\n\\n\\n\\n\\nStay connected and grow your business \\n\\n\\n\\nSUBSCRIBE \\n\\n\\n\\n\\n\\n\\n \\n\\n\\n\\n\\n\\n\\n\\n \\n\\n\\n\\n\\n\\n\\n\\n \\n\\n\\n\\n\\n\\n\\n\\n \\n\\n\\n\\n\\n\\n\\n\\n\\n\\n\\n\\n\\n\\n\\n\\n\\n\\n\\n\\n\\n\\nPrivacy Statement \\n\\nReport Vulnerability \\n\\nScam Advisory \\n\\nSitemap \\n\\nTerms of Use \\n\\nWhistleblowing \\n\\n\\n\\n\\n\\n© 2023 Government of Singapore\\nLast updated on [[UPDATED]]', metadata={'source': 'https://www.enterprisesg.gov.sg/financial-support/enterprise-development-grant', 'title': 'Enterprise Development Grant (EDG)', 'language': 'en'}),\n",
       " Document(page_content=\"However, to tap the EDG grant, the consultants must be certified except for:\\n\\nMembers/ specialists in the consultancy team who are not providing management consultancy services, but are performing dedicated functions, such as market research, audit, fieldwork, design/ artwork, equipment installation, and drafting of legal agreements.\\nConsultants offering technical advice and expertise in the development of new technology, and solutions vendors.\\n\\n\\n\\n\\n\\n\\n\\n\\n\\n\\n\\n\\nChecklist of a suitable consultant \\n\\n\\n\\n\\n\\n\\n\\n\\nGeneral competency\\n✔ Relevant academic qualifications\\n✔ Breadth of consultancy experience\\n✔ Good track record and client testimonials\\n\\nDomain expertise\\n✔ Knowledge or familiarity with clients' industry (e.g. business landscape, trends, best practices)\\n✔ Knowledge or expertise in the business function related to clients' project (e.g. financial management, HR management)\\n\\nSoft skills\\n✔ Ability to synthesise information quickly and assess clients' issues accurately\\n✔ Resourcefulness in gathering information or resources for the clients' project\\n \\n\\n\\n\\n\\n\\n\\n\\n\\n\\n\\nList of certified consultants\\n\\nNote: Applications will be assessed by EnterpriseSG based on project scope, project outcomes and competency of the service provider. \\n\\n\\n\\n\\n\\n\\n\\n\\n\\n\\n\\nInstitute of Management Consultants (Singapore) \\n\\n\\n\\n\\n\\n\\n\\n\\nRegistered Management Consultant (RMC)\\n\\nFind out more here \\n\\n\\n\\n\\n\\n\\n\\n\\n\\n\\nSingapore Business Advisors and Consultants Council Ltd \\n\\n\\n\\n\\n\\n\\n\\n\\nPractising Management Consultants (PMC)\\n\\nPractising Management Consultant (PMC)\\nSenior Practising Management Consultant (SPMC)\\n\\nFind out more here \\n\\n\\n\\n\\n\\n\\n\\n\\n\\n\\nTÜV SÜD PSB \\n\\n\\n\\n\\n\\n\\n\\n\\nSingapore Certified Management Consultant (SCMC)\\n\\nProfessional Singapore Certified Management Consultant (PSCMC)\\nExpert Singapore Certified Management Consultant (ESCMC)\\n\\n\\nFind out more here \\n\\n\\n\\n\\n\\n\\n\\n\\n\\n\\n\\n\\n\\n\\n\\n\\nApply on the Business Grants Portal (BGP)\\nYou will need to sign in to your Corppass account to transact on the BGP portal. Sign up if you do not have a Corppass account yet, and use this guide for any help needed.\\n\\nThird party companies are not allowed to apply or manage the grant on behalf of applicant companies.\\nCheck that you have prepared your project proposal and relevant supporting documents for your application.\\n\\nNote that projects must be new, have not commenced, and are not generating any revenue at the point of grant application.\\n\\nProjects are considered to have commenced if any of the following took place before the application date:\\n\\nApplicant started work\\nApplicant made payment to third-party, who is part of the application\\nApplicant signed contractual agreement with a third party, who is part of the application\\n\\n\\nNote: A complete submission will usually take 8 - 12 weeks from the time you submit your project application. We may contact you via the BGP for clarifications.\\n\\n\\n\\n\\n\\n\\n\\n\\n\\n\\n\\nProject proposal templates \\n\\n\\n\\n\\n\\n\\n\\n\\n\\nCore Capabilities proposal template\\nInnovation & Productivity proposal template\\nMarket Access proposal template\\n \\n\\n\\n\\n\\n\\n\\n\\n\\n\\n\\nDocuments to prepare \\n\\n\\n\\n\\n\\n\\n\\n\\nMandatory documents\\n✔ Latest ACRA search or instant information (dated no earlier than 6 months from date of project application)\\nIf there are corporate shareholders, please provide the information for the corporate parents as well\\n✔ Audited financial statements or certified management accounts for the last Financial Year (FY) \\n✔ Consolidated financial statements for the last FY of your ultimate parent company, if any\\n✔ Project proposal\\n✔ Relevant proof of quotation for the cost of your project items. Where applicable, EnterpriseSG may seek clarifications on the choice of vendor and/or alternative quotation source.\", metadata={'source': 'https://www.enterprisesg.gov.sg/financial-support/enterprise-development-grant', 'title': 'Enterprise Development Grant (EDG)', 'language': 'en'}),\n",
       " Document(page_content='Supporting documents\\n✔ Quotation of hardware and software costs by number of units and unit cost\\n✔ Employment or Appointment letters of staff*\\n      \\nFor Consultancy cost\\n✔ Consultancy proposal details with fee breakdown by phases, description of activity and man-days required\\n✔ For projects where management consultants are engaged, please include the consultants’ proposal detailing the scope of work, man-day rate breakdown of the service, as well as the CVs and scanned copies of the Singapore Accreditation Council -accredited TR 43 or SS 680 certification(s) of each individual consultant.\\n\\nProjected figures to provide:\\n✔ Company revenue\\n✔ Staff remuneration\\n✔ Depreciation\\n✔ Net operating profit before tax for three years’ post-project (inclusive of the year of project completion)\\n✔ Impact on workers (Singaporean or PR) benefitting from project in the form of increased wages, job creation, job-redesign or training \\n\\nNotes:\\n* If staff is not identified yet, provide the job description and designation\\nThere are no compulsory application fees required for schemes offered by EnterpriseSG. Any application fees quoted by individuals/ firms offering grant application services are not endorsed by the Government.\\n \\n\\n\\n\\n\\n\\n\\n\\n\\n\\n\\n \\n\\n\\nClaims\\n\\n\\n\\n\\n\\n\\n\\n\\n\\n\\n\\nEDG projects are supported on a reimbursement basis. Claims can be submitted when all project deliverables have been achieved. Claims must reach Enterprise Singapore no later than six months from the end of the project qualifying period*.\\n\\n*Refer to project Letter of Offer for details on project deliverables and project qualifying period. \\n\\n\\n\\n \\n\\n\\n\\n\\n\\n\\n\\n\\n\\nStep 1: Refer to Letter of Offer\\nRefer to your Letter of Offer for details on:\\n\\nProject Qualifying Period\\nProject Deliverables\\n\\nProjects should have been completed within the specified qualifying period, and all project deliverables should have been achieved.\\n\\n\\n\\n\\n\\n\\n\\n\\nStep 2: Prepare documents\\n\\nPrepare the following documents required for claims submission (Claims submission checklist):\\n\\n1. Update your preferred mode of disbursement on BGP and submit necessary information\\nPlease submit the necessary information for your preferred mode of disbursement. Disbursement of the Grant will be credited directly to your bank account through PayNow (preferred) or GIRO.\\nPayNow (preferred)\\n\\n Please provide the necessary details on BGP when claims are being submitted. \\n\\n\\nGIRO\\n\\n Please provide your bank account details on BGP when claims are being submitted. \\n\\n\\nDo note that the following scenarios would require an endorsed DCA form and declaration form to be submitted via formsg here:\\n\\n Your account is not from any of the 4 banks (OCBC,DBS, POSB, UOB) OR \\n Your account is a Joint Bank Account under Partnership or Limited Partnership legal structure OR \\n Your company falls under Institutes of Public Character/Associations \\n\\n\\n2. Deliverables Documentation\\n\\nProject Summary report (Project Summary report template)\\nDocumentation of project deliverables (e.g. consultant’s report, images of equipment, etc)\\n\\n\\n3. Cost Items Documentation for audit (e.g. Invoices, bank statements, employment contract, etc.).\\n\\n\\n\\n\\n\\n\\n\\n\\n\\n\\n\\n\\n\\nStep 3: Submit claims on BGP and select auditors\\nSubmit claims\\n\\nLog on to the Business Grant Portal (BGP) and select “File a New Claim”. Refer to the BGP guide\\xa0for more information.\\nUpload project summary report and documentation of project deliverables under “Project Report” tab in BGP.\\n\\nSelect auditors\\n\\nDuring final claim submission in BGP, select an auditor from Enterprise Singapore’s Pre-Qualified Panel\\xa0to verify your claims, unless expressly exempted by Enterprise Singapore.\\nUpload cost items documentation (e.g. invoices, bank statements) under “Supporting Documents” in BGP.\\nUpon completion of the above steps, submit the claim and record the claim number for future reference. If you require further technical support on your claim submission, please contact Enterprise Infoline.\\n\\n\\n\\n\\n\\n\\n\\n\\n\\nWhat happens after you have submitted your claims', metadata={'source': 'https://www.enterprisesg.gov.sg/financial-support/enterprise-development-grant', 'title': 'Enterprise Development Grant (EDG)', 'language': 'en'})]"
      ]
     },
     "execution_count": 24,
     "metadata": {},
     "output_type": "execute_result"
    }
   ],
   "source": [
    "chat_history = [HumanMessage(content=\"Can Singaporean companies apply for the EDG?\"), AIMessage(content=\"Yes!\")]\n",
    "retriever_chain.invoke({\n",
    "    \"chat_history\": chat_history,\n",
    "    \"input\": \"Tell me how\"\n",
    "})"
   ]
  },
  {
   "cell_type": "code",
   "execution_count": 25,
   "id": "b7d0e016-cde5-4d06-8f51-fbb4225de0c3",
   "metadata": {},
   "outputs": [],
   "source": [
    "prompt = ChatPromptTemplate.from_messages([\n",
    "    (\"system\", \"Answer the user's questions based on the below context:\\n\\n{context}\"),\n",
    "    MessagesPlaceholder(variable_name=\"chat_history\"),\n",
    "    (\"user\", \"{input}\"),\n",
    "])\n",
    "document_chain = create_stuff_documents_chain(llm, prompt)\n",
    "\n",
    "\n",
    "retrieval_chain = create_retrieval_chain(retriever_chain, document_chain)"
   ]
  },
  {
   "cell_type": "code",
   "execution_count": 28,
   "id": "977c99d2-27f1-4325-801a-0ee5c057d6d5",
   "metadata": {},
   "outputs": [
    {
     "data": {
      "text/plain": [
       "{'chat_history': [HumanMessage(content='Can Singaporean companies apply for the EDG?'),\n",
       "  AIMessage(content='Yes!')],\n",
       " 'input': 'Tell me how',\n",
       " 'context': [Document(page_content='Enterprise Development Grant (EDG)\\n\\n\\n\\n\\n\\n\\n\\n\\n\\n\\n\\n\\n\\n\\n\\n\\n\\n\\n\\n\\n\\n\\n\\n\\n\\n\\n\\n\\n\\n\\n\\n\\n\\n\\n\\nx \\n\\n\\n\\n\\n\\n\\n\\n \\n\\n\\n\\n\\n\\n\\n\\n\\n\\n\\n\\n\\n\\n\\n\\n\\n\\n\\n\\n\\n\\n\\n\\n \\n\\n\\n\\n\\nGrow Your Business\\n\\nBoost Capabilities\\n\\nOverview\\n\\n\\nGrowth & Transformation\\n\\n\\nProductivity & Digitalisation\\n\\n\\nTalent Attraction & Development\\n\\n\\nQuality & Standards\\n\\n\\nSustainability\\n\\n\\n\\n\\nInnovate with Us\\n\\nOverview\\n\\n\\nInnovation Capabilities\\n\\n\\nInnovation Talent\\n\\n\\nMarket Access & Networks\\n\\n\\n\\n\\nGo Global\\n\\nOverview\\n\\n\\nMarket Guides\\n\\n\\nMarket Entry Support\\n\\n\\nInternational Agreements\\n\\n\\n\\n\\nPartner with Singapore\\n\\nWhy Singapore\\n\\n\\nInnovation & Startups\\n\\n\\nTrade\\n\\n\\nInfrastructure\\n\\n\\n\\n\\nFake Navigation Item\\n\\n\\n\\n\\nIndustries\\n\\n\\nFinancial Support\\n\\n\\nResources\\n\\n\\nAbout Us\\n\\n\\n\\n\\n\\n \\n\\n\\n\\n\\n\\n \\n\\n\\n\\n \\n\\n\\n\\n\\nGrow Your Business\\n\\nBoost Capabilities\\n\\nOverview\\n\\n\\nGrowth & Transformation\\n\\n\\nProductivity & Digitalisation\\n\\n\\nTalent Attraction & Development\\n\\n\\nQuality & Standards\\n\\n\\nSustainability\\n\\n\\n\\n\\nInnovate with Us\\n\\nOverview\\n\\n\\nInnovation Capabilities\\n\\n\\nInnovation Talent\\n\\n\\nMarket Access & Networks\\n\\n\\n\\n\\nGo Global\\n\\nOverview\\n\\n\\nMarket Guides\\n\\n\\nMarket Entry Support\\n\\n\\nInternational Agreements\\n\\n\\n\\n\\nPartner with Singapore\\n\\nWhy Singapore\\n\\n\\nInnovation & Startups\\n\\n\\nTrade\\n\\n\\nInfrastructure\\n\\n\\n\\n\\nFake Navigation Item\\n\\n\\n\\n\\nIndustries\\n\\n\\nFinancial Support\\n\\n\\nResources\\n\\n\\nAbout Us\\n\\n\\n\\n\\n\\n\\n\\n\\n\\n\\n\\n\\n\\n\\n\\n\\n\\n\\n\\n\\n\\n\\n\\n\\n\\n\\n\\n\\n \\n\\n\\n\\n\\n\\n \\n \\n\\n\\n\\n\\n\\n\\n\\n\\n\\n\\n\\n\\n\\n\\n\\n\\n\\nFinancial Support /\\n\\n\\nEnterprise Development Grant (EDG) /\\n\\n\\n\\n\\n\\nEnterprise Development GrantFor Singapore companies starting new projects to upgrade their business, explore new growth, or expand overseas\\nFunds individual projects tailored to your business \\n\\n\\n Due to high volume of applications, you may encounter a longer processing time than usual. To check on the status of your application, please visit the Business Grants Portal. \\nAll successful applications will be subject to prevailing grant conditions. Incomplete applications will be rejected, and applicants may re-apply with all the complete set of required information. \\n\\n\\n\\nApply now \\n\\n \\n\\n\\n\\n\\n\\n\\n\\n\\n\\n\\nAbout this programme\\nThe Enterprise Development Grant (EDG) supports projects that help you upgrade, innovate, grow and transform your business. Submit your individual project proposals with details on your business plans and project outcomes to take your business further.\\nEDG funds qualifying project costs namely third-party consultancy fees, software and equipment, and internal manpower cost.\\n\\n\\n\\n\\n\\nUp to 50% of eligible costs for local SMEsFrom 1 April 2023, SMEs can receive up to 50% support for EDG (sustainability-related projects may be supported at up to 70% from 1 April 2023 to 31 March 2026). Please refer to the Enterprise Sustainability Programme\\xa0page for more details. \\n\\n\\n\\n\\n\\n\\n Note: The previously-enhanced grant support levels were extended for a time-limited period given the exceptional disruptions brought about by the COVID-19 pandemic, to encourage the transformation of the economy and to help businesses emerge stronger from the pandemic. \\n\\n\\nEligibility\\n\\n\\n\\n\\n\\n\\nBusiness entity registered and operating in Singapore \\n\\nCompany has at least 30% local equity held directly or indirectly by Singaporean(s) and/or Singapore PR(s), determined by the ultimate individual ownership   \\n\\nCompany is financially ready to start and complete the project. Commonly used financial indicators, such as the current ratio, will be used for assessment. \\n\\n\\n\\n\\n\\n\\n\\n\\nNote:\\n\\n\\n\\nApplications will be assessed by EnterpriseSG based on project scope, project outcomes and competency of the service provider.\\nEmployers eligible for the SkillsFuture Enterprise Credit can qualify for additional subsidies under the scheme.\\n \\n\\n\\nProject categories\\n\\n\\n\\n\\n\\n\\n\\n\\n\\n\\n\\nToday and into the future, companies that thrive are the ones that have strong business foundations and strategies, adopt technology and innovative processes, and grow their overseas presence.\\xa0\\xa0\\nEDG helps Singapore companies grow and transform. This grant supports projects that help you upgrade your business, innovate or venture overseas, under three categories:', metadata={'source': 'https://www.enterprisesg.gov.sg/financial-support/enterprise-development-grant', 'title': 'Enterprise Development Grant (EDG)', 'language': 'en'}),\n",
       "  Document(page_content='What happens after you have submitted your claims\\n\\nAn EnterpriseSG officer will verify that the project deliverables have been met, and may contact you for further information if required. A site visit or presentation meeting may be arranged for this purpose. You may be asked to revise your Project Report if the information is incomplete. \\nConcurrently, the auditor that you have appointed will verify your claim documents and issue an Audit Report upon completion of the verification. The auditor may contact you for further information if required. \\nThe approved claim amount will be disbursed within six to eight weeks via your selected mode of disbursement to your designed bank account after successful verification of project deliverables AND expenses. First time applicants will need to ensure your PayNow or GIRO is set up and furnish the PayNow or GIRO details to EnterpriseSG for fund disbursement. \\nYou will be informed via email when the grant has been approved\\n    An email will also be sent out by DBS to the email address entered at the mandatory email field in CA/claim form to inform on the credit of the fund.\\n\\n\\n\\n \\n\\n\\n\\n\\n\\n\\n\\n\\n\\n\\n\\n\\n\\n\\nReady to apply? \\n\\n\\n\\nIf you are eligible for the Enterprise Development Grant, submit your application on the Business Grants Portal (BGP) now. \\n\\n\\n\\nApply now \\n\\n\\n\\n\\n\\n\\n\\n\\n\\n\\nNeed additional help?\\n\\n\\n \\n\\nRead Frequently Asked Questions \\n\\n\\n\\nLearn more about other financial support schemes \\n\\n\\n\\n\\n\\n\\n\\n\\n\\nFor technical assistance, kindly contact us through the Enterprise Infoline. \\n\\n\\n\\n\\n\\n\\n \\n\\n\\n\\n\\n\\n\\n\\nEnterprise Development Grant (EDG)About this programmeEligibilityProject categoriesHow to applyClaimsNeed additional help?\\n\\n\\nApply now \\n \\n\\n\\n\\n\\n\\n\\n\\n\\n\\n\\n\\n\\n\\nOther ways we help \\n\\n\\nProductivity Solutions Grant (PSG)Improve productivity through IT solutions and equipment.\\nMarket Readiness Assistance (MRA) GrantSupport for business development, promotion and set-up costs for new overseas market expansion.\\nEnterprise Financing SchemeAccess financing support at each stage of your business growth. \\n\\n\\n\\n\\n \\n\\n\\n\\n\\n\\n\\n\\n\\n \\n\\n\\n\\n\\n\\n\\n\\n\\n\\n\\n\\n\\n\\n\\n\\n\\nEnterprise Singapore\\nThis website is best viewed in Google Chrome or Microsoft Edge browsers. \\n\\n\\n\\n\\n\\n\\n\\n\\n\\nAbout Us \\n\\nCareers \\n\\nContact Us \\n\\nEvents \\n\\n\\n\\n\\n\\n\\n\\nFAQs \\n\\nMedia Centre \\n\\n\\n\\n\\n\\n\\n\\n\\n\\nStay connected and grow your business \\n\\n\\n\\nSUBSCRIBE \\n\\n\\n\\n\\n\\n\\n \\n\\n\\n\\n\\n\\n\\n\\n \\n\\n\\n\\n\\n\\n\\n\\n \\n\\n\\n\\n\\n\\n\\n\\n \\n\\n\\n\\n\\n\\n\\n\\n\\n\\n\\n\\n\\n\\n\\n\\n\\n\\n\\n\\n\\n\\nPrivacy Statement \\n\\nReport Vulnerability \\n\\nScam Advisory \\n\\nSitemap \\n\\nTerms of Use \\n\\nWhistleblowing \\n\\n\\n\\n\\n\\n© 2023 Government of Singapore\\nLast updated on [[UPDATED]]', metadata={'source': 'https://www.enterprisesg.gov.sg/financial-support/enterprise-development-grant', 'title': 'Enterprise Development Grant (EDG)', 'language': 'en'}),\n",
       "  Document(page_content=\"However, to tap the EDG grant, the consultants must be certified except for:\\n\\nMembers/ specialists in the consultancy team who are not providing management consultancy services, but are performing dedicated functions, such as market research, audit, fieldwork, design/ artwork, equipment installation, and drafting of legal agreements.\\nConsultants offering technical advice and expertise in the development of new technology, and solutions vendors.\\n\\n\\n\\n\\n\\n\\n\\n\\n\\n\\n\\n\\nChecklist of a suitable consultant \\n\\n\\n\\n\\n\\n\\n\\n\\nGeneral competency\\n✔ Relevant academic qualifications\\n✔ Breadth of consultancy experience\\n✔ Good track record and client testimonials\\n\\nDomain expertise\\n✔ Knowledge or familiarity with clients' industry (e.g. business landscape, trends, best practices)\\n✔ Knowledge or expertise in the business function related to clients' project (e.g. financial management, HR management)\\n\\nSoft skills\\n✔ Ability to synthesise information quickly and assess clients' issues accurately\\n✔ Resourcefulness in gathering information or resources for the clients' project\\n \\n\\n\\n\\n\\n\\n\\n\\n\\n\\n\\nList of certified consultants\\n\\nNote: Applications will be assessed by EnterpriseSG based on project scope, project outcomes and competency of the service provider. \\n\\n\\n\\n\\n\\n\\n\\n\\n\\n\\n\\nInstitute of Management Consultants (Singapore) \\n\\n\\n\\n\\n\\n\\n\\n\\nRegistered Management Consultant (RMC)\\n\\nFind out more here \\n\\n\\n\\n\\n\\n\\n\\n\\n\\n\\nSingapore Business Advisors and Consultants Council Ltd \\n\\n\\n\\n\\n\\n\\n\\n\\nPractising Management Consultants (PMC)\\n\\nPractising Management Consultant (PMC)\\nSenior Practising Management Consultant (SPMC)\\n\\nFind out more here \\n\\n\\n\\n\\n\\n\\n\\n\\n\\n\\nTÜV SÜD PSB \\n\\n\\n\\n\\n\\n\\n\\n\\nSingapore Certified Management Consultant (SCMC)\\n\\nProfessional Singapore Certified Management Consultant (PSCMC)\\nExpert Singapore Certified Management Consultant (ESCMC)\\n\\n\\nFind out more here \\n\\n\\n\\n\\n\\n\\n\\n\\n\\n\\n\\n\\n\\n\\n\\n\\nApply on the Business Grants Portal (BGP)\\nYou will need to sign in to your Corppass account to transact on the BGP portal. Sign up if you do not have a Corppass account yet, and use this guide for any help needed.\\n\\nThird party companies are not allowed to apply or manage the grant on behalf of applicant companies.\\nCheck that you have prepared your project proposal and relevant supporting documents for your application.\\n\\nNote that projects must be new, have not commenced, and are not generating any revenue at the point of grant application.\\n\\nProjects are considered to have commenced if any of the following took place before the application date:\\n\\nApplicant started work\\nApplicant made payment to third-party, who is part of the application\\nApplicant signed contractual agreement with a third party, who is part of the application\\n\\n\\nNote: A complete submission will usually take 8 - 12 weeks from the time you submit your project application. We may contact you via the BGP for clarifications.\\n\\n\\n\\n\\n\\n\\n\\n\\n\\n\\n\\nProject proposal templates \\n\\n\\n\\n\\n\\n\\n\\n\\n\\nCore Capabilities proposal template\\nInnovation & Productivity proposal template\\nMarket Access proposal template\\n \\n\\n\\n\\n\\n\\n\\n\\n\\n\\n\\nDocuments to prepare \\n\\n\\n\\n\\n\\n\\n\\n\\nMandatory documents\\n✔ Latest ACRA search or instant information (dated no earlier than 6 months from date of project application)\\nIf there are corporate shareholders, please provide the information for the corporate parents as well\\n✔ Audited financial statements or certified management accounts for the last Financial Year (FY) \\n✔ Consolidated financial statements for the last FY of your ultimate parent company, if any\\n✔ Project proposal\\n✔ Relevant proof of quotation for the cost of your project items. Where applicable, EnterpriseSG may seek clarifications on the choice of vendor and/or alternative quotation source.\", metadata={'source': 'https://www.enterprisesg.gov.sg/financial-support/enterprise-development-grant', 'title': 'Enterprise Development Grant (EDG)', 'language': 'en'}),\n",
       "  Document(page_content='Supporting documents\\n✔ Quotation of hardware and software costs by number of units and unit cost\\n✔ Employment or Appointment letters of staff*\\n      \\nFor Consultancy cost\\n✔ Consultancy proposal details with fee breakdown by phases, description of activity and man-days required\\n✔ For projects where management consultants are engaged, please include the consultants’ proposal detailing the scope of work, man-day rate breakdown of the service, as well as the CVs and scanned copies of the Singapore Accreditation Council -accredited TR 43 or SS 680 certification(s) of each individual consultant.\\n\\nProjected figures to provide:\\n✔ Company revenue\\n✔ Staff remuneration\\n✔ Depreciation\\n✔ Net operating profit before tax for three years’ post-project (inclusive of the year of project completion)\\n✔ Impact on workers (Singaporean or PR) benefitting from project in the form of increased wages, job creation, job-redesign or training \\n\\nNotes:\\n* If staff is not identified yet, provide the job description and designation\\nThere are no compulsory application fees required for schemes offered by EnterpriseSG. Any application fees quoted by individuals/ firms offering grant application services are not endorsed by the Government.\\n \\n\\n\\n\\n\\n\\n\\n\\n\\n\\n\\n \\n\\n\\nClaims\\n\\n\\n\\n\\n\\n\\n\\n\\n\\n\\n\\nEDG projects are supported on a reimbursement basis. Claims can be submitted when all project deliverables have been achieved. Claims must reach Enterprise Singapore no later than six months from the end of the project qualifying period*.\\n\\n*Refer to project Letter of Offer for details on project deliverables and project qualifying period. \\n\\n\\n\\n \\n\\n\\n\\n\\n\\n\\n\\n\\n\\nStep 1: Refer to Letter of Offer\\nRefer to your Letter of Offer for details on:\\n\\nProject Qualifying Period\\nProject Deliverables\\n\\nProjects should have been completed within the specified qualifying period, and all project deliverables should have been achieved.\\n\\n\\n\\n\\n\\n\\n\\n\\nStep 2: Prepare documents\\n\\nPrepare the following documents required for claims submission (Claims submission checklist):\\n\\n1. Update your preferred mode of disbursement on BGP and submit necessary information\\nPlease submit the necessary information for your preferred mode of disbursement. Disbursement of the Grant will be credited directly to your bank account through PayNow (preferred) or GIRO.\\nPayNow (preferred)\\n\\n Please provide the necessary details on BGP when claims are being submitted. \\n\\n\\nGIRO\\n\\n Please provide your bank account details on BGP when claims are being submitted. \\n\\n\\nDo note that the following scenarios would require an endorsed DCA form and declaration form to be submitted via formsg here:\\n\\n Your account is not from any of the 4 banks (OCBC,DBS, POSB, UOB) OR \\n Your account is a Joint Bank Account under Partnership or Limited Partnership legal structure OR \\n Your company falls under Institutes of Public Character/Associations \\n\\n\\n2. Deliverables Documentation\\n\\nProject Summary report (Project Summary report template)\\nDocumentation of project deliverables (e.g. consultant’s report, images of equipment, etc)\\n\\n\\n3. Cost Items Documentation for audit (e.g. Invoices, bank statements, employment contract, etc.).\\n\\n\\n\\n\\n\\n\\n\\n\\n\\n\\n\\n\\n\\nStep 3: Submit claims on BGP and select auditors\\nSubmit claims\\n\\nLog on to the Business Grant Portal (BGP) and select “File a New Claim”. Refer to the BGP guide\\xa0for more information.\\nUpload project summary report and documentation of project deliverables under “Project Report” tab in BGP.\\n\\nSelect auditors\\n\\nDuring final claim submission in BGP, select an auditor from Enterprise Singapore’s Pre-Qualified Panel\\xa0to verify your claims, unless expressly exempted by Enterprise Singapore.\\nUpload cost items documentation (e.g. invoices, bank statements) under “Supporting Documents” in BGP.\\nUpon completion of the above steps, submit the claim and record the claim number for future reference. If you require further technical support on your claim submission, please contact Enterprise Infoline.\\n\\n\\n\\n\\n\\n\\n\\n\\n\\nWhat happens after you have submitted your claims', metadata={'source': 'https://www.enterprisesg.gov.sg/financial-support/enterprise-development-grant', 'title': 'Enterprise Development Grant (EDG)', 'language': 'en'})],\n",
       " 'answer': 'To apply for the Enterprise Development Grant (EDG) as a Singaporean company, you can follow these steps:\\n\\n1. Ensure that your business entity is registered and operating in Singapore.\\n2. Make sure that your company has at least 30% local equity held directly or indirectly by Singaporean(s) and/or Singapore PR(s).\\n3. Ensure that your company is financially ready to start and complete the project. Commonly used financial indicators, such as the current ratio, will be used for assessment.\\n4. Prepare your project proposal and relevant supporting documents for your application. Projects must be new, have not commenced, and are not generating any revenue at the point of grant application.\\n5. Sign in to your Corppass account to transact on the Business Grants Portal (BGP). If you do not have a Corppass account yet, you will need to sign up.\\n6. Submit your application on the Business Grants Portal (BGP) with all the necessary information and documents.\\n\\nIf you need further assistance, you can contact Enterprise Infoline for technical support.'}"
      ]
     },
     "execution_count": 28,
     "metadata": {},
     "output_type": "execute_result"
    }
   ],
   "source": [
    "chat_history = [HumanMessage(content=\"Can Singaporean companies apply for the EDG?\"), AIMessage(content=\"Yes!\")]\n",
    "retrieval_chain.invoke({\n",
    "    \"chat_history\": chat_history,\n",
    "    \"input\": \"Tell me how\"\n",
    "})"
   ]
  },
  {
   "cell_type": "markdown",
   "id": "78d65b41-511f-4c8b-a4d6-78d58d7a5fdf",
   "metadata": {},
   "source": [
    "# Langchain integrate website parsing with chat message history"
   ]
  },
  {
   "cell_type": "code",
   "execution_count": 53,
   "id": "74882319-cf24-44da-a278-6d8662e48baf",
   "metadata": {},
   "outputs": [],
   "source": [
    "loader = WebBaseLoader(\"https://www.enterprisesg.gov.sg/financial-support/enterprise-development-grant\")\n",
    "\n",
    "docs = loader.load()"
   ]
  },
  {
   "cell_type": "code",
   "execution_count": 54,
   "id": "14004352-37b8-4f59-8196-56beb935722a",
   "metadata": {},
   "outputs": [],
   "source": [
    "documents = text_splitter.split_documents(docs)\n",
    "vector = FAISS.from_documents(documents, embeddings)"
   ]
  },
  {
   "cell_type": "code",
   "execution_count": 55,
   "id": "1b5c8458-1ec7-483f-9492-ecb2bd1631c4",
   "metadata": {},
   "outputs": [],
   "source": [
    "retriever = vector.as_retriever()\n",
    "retrieval_chain = create_retrieval_chain(retriever, document_chain)"
   ]
  },
  {
   "cell_type": "code",
   "execution_count": 56,
   "id": "237afdcc-2f25-4740-afa6-0394d8e0286e",
   "metadata": {},
   "outputs": [],
   "source": [
    "prompt = ChatPromptTemplate.from_messages(\n",
    "    [\n",
    "        (\n",
    "            \"system\",\n",
    "            \"You are an expert on government policies in Singapore, answer all questions to the best of your ability.\",\n",
    "        ),\n",
    "        MessagesPlaceholder(variable_name=\"chat_history\"),\n",
    "        (\"human\", \"{input}\"),\n",
    "    ]\n",
    ")\n",
    "\n",
    "chain = prompt | chat"
   ]
  },
  {
   "cell_type": "code",
   "execution_count": 57,
   "id": "eb3df2a4-02f0-4b96-9a83-97bd58266299",
   "metadata": {},
   "outputs": [],
   "source": [
    "demo_ephemeral_chat_history_for_chain = ChatMessageHistory()\n",
    "\n",
    "chain_with_message_history = RunnableWithMessageHistory(\n",
    "    chain,\n",
    "    lambda session_id: demo_ephemeral_chat_history_for_chain,\n",
    "    input_messages_key=\"input\",\n",
    "    history_messages_key=\"chat_history\",\n",
    ")"
   ]
  },
  {
   "cell_type": "code",
   "execution_count": 58,
   "id": "9e9c3ed1-fa59-4358-9a3a-55fb60a0d324",
   "metadata": {},
   "outputs": [
    {
     "data": {
      "text/plain": [
       "AIMessage(content=\"To be eligible for the Enterprise Development Grant (EDG) in Singapore, a company must be registered and operating in the country, have a minimum of 30% local shareholding, and be in a financially viable position. Additionally, the company should have a clear project scope and meet the criteria for the specific EDG pillar they are applying for: namely, Core Capabilities, Innovation and Productivity, or Market Access. It's important to note that the EDG is available to support projects that help companies upgrade, innovate, or venture overseas, and the specific eligibility criteria may vary for each pillar.\", response_metadata={'token_usage': {'completion_tokens': 121, 'prompt_tokens': 46, 'total_tokens': 167}, 'model_name': 'gpt-3.5-turbo-1106', 'system_fingerprint': 'fp_592ef5907d', 'finish_reason': 'stop', 'logprobs': None}, id='run-7b821e1e-fd2b-491f-bb53-11d34839dbec-0')"
      ]
     },
     "execution_count": 58,
     "metadata": {},
     "output_type": "execute_result"
    }
   ],
   "source": [
    "chain_with_message_history.invoke(\n",
    "    {\"input\": \"Tell me what are the conditions to be eligible for the EDG grant.\"},\n",
    "    {\"configurable\": {\"session_id\": \"foo\"}},\n",
    ")"
   ]
  },
  {
   "cell_type": "code",
   "execution_count": 59,
   "id": "38c0f871-5bac-4bfc-842e-309ce98852a1",
   "metadata": {},
   "outputs": [
    {
     "data": {
      "text/plain": [
       "AIMessage(content='The conditions to be eligible for the Enterprise Development Grant (EDG) in Singapore include the company being registered and operating in the country, having a minimum of 30% local shareholding, being in a financially viable position, having a clear project scope, and meeting the specific criteria for the EDG pillar they are applying for, such as Core Capabilities, Innovation and Productivity, or Market Access.', response_metadata={'token_usage': {'completion_tokens': 81, 'prompt_tokens': 182, 'total_tokens': 263}, 'model_name': 'gpt-3.5-turbo-1106', 'system_fingerprint': 'fp_592ef5907d', 'finish_reason': 'stop', 'logprobs': None}, id='run-55db04fd-fb66-4d06-a3d4-c1d5164c1b69-0')"
      ]
     },
     "execution_count": 59,
     "metadata": {},
     "output_type": "execute_result"
    }
   ],
   "source": [
    "chain_with_message_history.invoke(\n",
    "    {\"input\": \"Repeat what I just asked you.\"},\n",
    "    {\"configurable\": {\"session_id\": \"foo\"}},\n",
    ")"
   ]
  },
  {
   "cell_type": "code",
   "execution_count": 60,
   "id": "8c4cad0e-4db7-4454-adc9-557618d60c56",
   "metadata": {},
   "outputs": [
    {
     "data": {
      "text/plain": [
       "AIMessage(content='Your original question was about the conditions for eligibility for the EDG grant in Singapore.', response_metadata={'token_usage': {'completion_tokens': 17, 'prompt_tokens': 277, 'total_tokens': 294}, 'model_name': 'gpt-3.5-turbo-1106', 'system_fingerprint': 'fp_592ef5907d', 'finish_reason': 'stop', 'logprobs': None}, id='run-09f9e058-9eea-47e7-81f3-a8063e6afafc-0')"
      ]
     },
     "execution_count": 60,
     "metadata": {},
     "output_type": "execute_result"
    }
   ],
   "source": [
    "chain_with_message_history.invoke(\n",
    "    {\"input\": \"What was my original question?\"},\n",
    "    {\"configurable\": {\"session_id\": \"foo\"}},\n",
    ")"
   ]
  },
  {
   "cell_type": "code",
   "execution_count": null,
   "id": "d7b99ff7-164e-4326-bdcc-d37b7a8a2443",
   "metadata": {},
   "outputs": [],
   "source": [
    "# Training Langchain Model with More data (10 webpages)"
   ]
  },
  {
   "cell_type": "code",
   "execution_count": null,
   "id": "2b539c03-8941-48f6-987e-7f9150a44c6c",
   "metadata": {},
   "outputs": [],
   "source": [
    "# Finetuning Langchain model to return relevant forms ON TOP of returning the relevant info"
   ]
  }
 ],
 "metadata": {
  "kernelspec": {
   "display_name": "Python 3 (ipykernel)",
   "language": "python",
   "name": "python3"
  },
  "language_info": {
   "codemirror_mode": {
    "name": "ipython",
    "version": 3
   },
   "file_extension": ".py",
   "mimetype": "text/x-python",
   "name": "python",
   "nbconvert_exporter": "python",
   "pygments_lexer": "ipython3",
   "version": "3.11.8"
  }
 },
 "nbformat": 4,
 "nbformat_minor": 5
}
